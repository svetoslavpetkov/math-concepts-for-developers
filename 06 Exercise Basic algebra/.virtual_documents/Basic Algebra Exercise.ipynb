%matplotlib inline


import numpy as np
import matplotlib.pyplot as plt
import numpy.polynomial.polynomial as p
import functools
import random
from sympy.ntheory import factorint
import time
import secrets








points = np.array([(0, 0), (1, 0.8), (2, 0.9), (3, 0.1), (4, -0.8), (5, -1.0)])
x = points[:, 0]
y = points[:, 1]
poly  = p.Polynomial.fit(x, y, len(points) - 1)

plot_x = np.linspace(np.min(x), np.max(x), 1000) # If you want, pass the number of points as a parameter
plot_y = poly(plot_x)

plt.plot(plot_x, plot_y, c = "green")
plt.scatter(x, y)
plt.xlabel("x")
plt.ylabel("y")
plt.show()






def get_interpolated_func(points, degree = None):
    x = points[:, 0]
    y = points[:, 1]
    real_degeree = degree if degree is not None else len(points) - 1
    return p.Polynomial.fit(x, y, real_degeree)

def interpolate_polynomial(points, degree, min_x, max_x):
    """
    Interpolates a polynomial of the specified degree through the given points and plots it
    points - a list of points (x, y) to plot
    degree - the polynomial degree
    min_x, max_x - range of x values used to plot the interpolating polynomial
    """
    x = points[:, 0]
    y = points[:, 1]
    poly  = get_interpolated_func(points, degree)
    
    plot_x = np.linspace(min_x, max_x, 1000) # If you want, pass the number of points as a parameter
    plot_y = poly(plot_x)
    
    plt.plot(plot_x, plot_y, c = "green")
    plt.scatter(x, y)
    plt.xlabel("x")
    plt.ylabel("y")
    plt.show()
    pass


points = np.array([(0, 0), (1, 0.8), (2, 0.9), (3, 0.1), (4, -0.8), (5, -1.0)])
interpolate_polynomial(points, len(points) - 1, np.min(points[:, 0]), np.max(points[:, 0]))





interpolate_polynomial(points, len(points) - 1, -5, 10)





interpolate_polynomial(points, 3, np.min(points[:, 0]), np.max(points[:, 0]))
interpolate_polynomial(points, 2, np.min(points[:, 0]), np.max(points[:, 0]))
interpolate_polynomial(points, 1, np.min(points[:, 0]), np.max(points[:, 0]))





interpolate_polynomial(points, 5, np.min(points[:, 0]), np.max(points[:, 0]))
interpolate_polynomial(points, 7, np.min(points[:, 0]), np.max(points[:, 0]))
interpolate_polynomial(points, 10, np.min(points[:, 0]), np.max(points[:, 0]))





interpolate_polynomial(points, 5, -10, 10)
interpolate_polynomial(points, 7, -10, 10)
interpolate_polynomial(points, 10, -10, 10)





interpolate_polynomial(points, len(points) - 1, -2, 7)
interpolate_polynomial(points, len(points) + 1, -2, 7)





points = np.array([(-5, 0.03846), (-4, 0.05882), (-3, 0.1), (-2, 0.2), (-1, 0.5), (0, 1), (1, 0.5), (2, 0.2), (3, 0.1), (4, 0.05882), (5, 0.03846)])
interpolate_polynomial(points, len(points) - 1, np.min(points[:, 0]), np.max(points[:, 0]))





def plot_math_functions(functions, min_x, max_x, num_points):
  x = np.linspace(min_x, max_x, num_points)
  vectorized_fs = [np.vectorize(f) for f in functions]
  ys = [vectorized_f(x) for vectorized_f in vectorized_fs]
  fig, ax = plt.subplots()
  ax.spines["bottom"].set_position("zero")
  ax.spines["left"].set_position("zero")
  ax.spines["top"].set_visible(False)
  ax.spines["right"].set_visible(False)
  ax.set_aspect('equal',  adjustable='box')
  for y in ys:
    plt.plot(x, y)
  plt.show()

funcOne = lambda x: 1/ (1 + x*x)
interpolatedFunc = get_interpolated_func(points)

plot_math_functions([funcOne, interpolatedFunc], -5, 5, 1000)






def plot_complex_number(z):
    """
    Plots the complex number z as a radius vector in the 2D space
    """
    plt.quiver(0, 0, z.real, z.imag, angles = "xy", scale_units = "xy", scale = 1)
    plt.scatter(z.real, z.imag)

    scale = int(max([ abs(z.real), abs(z.imag) ])) + 1
    plt.xticks(range(-scale, scale))
    plt.yticks(range(-scale, scale))

    plt.xlabel("x")
    plt.ylabel("y")
    plt.show()
    pass

plot_complex_number(2 + 3j)





def plot_complex_numbers(numbers, colors):
    """
    Plots the given complex numbers as radius vectors in the 2D space
    """
    assert len(numbers) == len(colors), "numbers and colors should have same lenght"
    prepared_arrays = [ [0, 0, n.real, n.imag] for n in numbers ]
    X, Y, U, V = zip(*prepared_arrays)
    plt.quiver(X, Y, U, V , color = colors, angles = "xy", scale_units = "xy", scale = 1)
    #plt.scatter(U, V)

    scale = int(max(U + V)) + 1
    plt.xticks(range(-scale, scale + 1))
    plt.yticks(range(-scale, scale + 1))

    plt.xlabel("x")
    plt.ylabel("y")
    plt.show()
    pass
plot_complex_numbers([2 + 3j, -2 - 1j, -3, 2j], ["green", "red", "blue", "orange"])





z1 = 2 + 3j
z2 = 1 - 1j
plot_complex_numbers([z1, z2, z1 + z2], ["red", "blue", "green"])





z1 = 2 + 3j
z2 = 2 + 0j
plot_complex_numbers([z1, z2, z1 + z2], ["red", "blue", "green"])


z1 = 2 + 3j
z2 = 0 + 2j
plot_complex_numbers([z1, z2, z1 + z2], ["red", "blue", "green"])





z = 2 + 3j
plot_complex_numbers([z, z * 1], ["blue", "blue"])
plot_complex_numbers([z, z * -1], ["red", "blue"])
plot_complex_numbers([z, z * 1j], ["red", "blue"])
plot_complex_numbers([z, z * -1j], ["red", "blue"])








z1 = 2 + 3j
z2 = 1 - 2j
plot_complex_numbers([z1, z2, z1 * z2], ["red", "blue", "green"])





def factorial_recursive(n):
    """
    Computes the factorial of a non-negative number n (using recursion)
    """
    if n == 0 or n == 1: return 1
    return n * factorial_recursive(n -1)
    pass

def factorial_iterative(n):
    """
    Computes the factorial of a non-negative number n (using iteration)
    """
    return functools.reduce(lambda a, b: a*b, range(1, n +1))
    pass





def nat(n = 1000):
    """Returns all natural numbers"""
    current = 1
    while current <= n:
        yield current
        current += 1
    pass

def even():
    """Returns all even numbers"""
    naturalGenerator = nat()
    while True:
        yield next(naturalGenerator)*2
    pass





def factorial_new(n):
    """returns factroial of n (n!)"""
    result = 1
    for i in nat(n):
        result = i*result 
        yield result
    pass





def fibonacci(n):
    """returns generator of fibonaci numbers up to n"""
    assert n > 0, "n should be greater than 0"
    prev1, prev2 = 0, 1
    
    for i in range(n):
        yield prev1
        prev1, prev2 = prev2, prev1 + prev2
    pass

for i in fibonacci(5):
    print(i)





# Write your code here





# Write your code here





def getEncodedChar(char, repeat):
    if repeat == 1:
        return char
    else:
        return f'{char}{repeat}'
    pass

def encode(text):
    """
    Returns the run-length encoded version of the text
    (numbers after symbols, length = 1 is skipped)
    """
    current_char = None
    current_char_lenght = None
    result = ""
    for char in text:
        if current_char is None:
            current_char = char
            current_char_lenght = 1
        elif current_char == char:
            current_char_lenght += 1
        else:
            result += getEncodedChar(current_char, current_char_lenght)
            current_char = char
            current_char_lenght = 1

    #we need to flush the buffer
    result += getEncodedChar(current_char, current_char_lenght)
    return result
    pass

def getDecodedChar(char, numString):
    times = int(numString) if len(numString) > 0 else 1
    return char*times

def decode(text):
    """
    Decodes the text using run-length encoding
    """
    current_char = None
    current_num = ""
    result = ""

    for i in range(len(text)):
        char = text[i]
        assert char.isalpha() or char.isdigit(), "Invalid character in decoded string"
        # handle for initial character
        #print(f'current_char="{current_char}", current_num:"{current_num}", char= "{char}", resulr={result}')
        if i == 0:
            assert char.isalpha(), "Input should start with letter"
            current_char = char
            continue

        if char.isdigit():
            current_num += char
        else:
            result += getDecodedChar(current_char, current_num)
            current_char = char
            current_num = ""

        # if edn of stream - flush what is stored
        if i == len(text) - 1:
            result += getDecodedChar(current_char, current_num)
    return result
    pass


# Tests
# Test that the functions work on their own
assert encode("AABCCCDEEEE") == "A2BC3DE4"
assert decode("A2BC3DE4") == "AABCCCDEEEE"

# # Test that the functions really invert each other
assert decode(encode("AABCCCDEEEE")) == "AABCCCDEEEE"
assert encode(decode("A2BC3DE4")) == "A2BC3DE4"





def measureExecution(func):
    start = time.time_ns()
    func()
    end = time.time_ns()
    return end - start

def getAvgExecutionTime(func, try_count = 10):
    sum = 0;
    for i in range(10):
        sum += measureExecution(func)
    return sum / try_count

def plotCoordiantes(X,Y):
    assert len(X) == len(Y)
    plt.plot(X, Y, c = "green")
    for x,y in zip(X,Y):
        plt.scatter(x, y)
    plt.xlabel("bitlength")
    plt.ylabel("elapsed time")
    plt.show()

def generateBits(bitsLength):
    return [ secrets.randbits(x) for x in bitsLength]

def observeBitFactorExecTime(bitsLenght):
    generatedBits = generateBits(bitsLenght)
    execTimes = [ getAvgExecutionTime(lambda: factorint(x))  for x in generatedBits]
    print(execTimes)
    plotCoordiantes(bitsLenght, execTimes)

# intentinally the numebrs are low
bitsLenght = [10, 20, 30, 40, 50, 60, 80, 90, 100]
observeBitFactorExecTime(bitsLenght)
    






# Write your code here






