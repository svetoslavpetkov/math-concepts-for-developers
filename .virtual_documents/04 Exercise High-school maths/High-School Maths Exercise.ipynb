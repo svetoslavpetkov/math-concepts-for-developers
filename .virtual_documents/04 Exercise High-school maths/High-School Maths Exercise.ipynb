import sympy
import math
import matplotlib.pyplot as plt
import numpy as np























x = sympy.symbols('x')
a, b, c = sympy.symbols('a b c')
sympy.solve(a * x**2 + b * x + c, x)                  





sympy.init_printing()
x = sympy.symbols('x')
a, b, c = sympy.symbols('a b c')
sympy.solve(a * x**2 + b * x + c, x)





def is_linar(a,b,c):
    return a == 0

def solve_linear_equation(a, b):
    if a == 0:
        raise ArithmeticError('Invalid linear equation, a is equal to 0')
    return [-b / a]

def solve_quadratic_equation(a, b, c):
    """
    Returns the real solutions of the quadratic equation ax^2 + bx + c = 0
    """
    # Delete the "pass" statement below and write your code
    if a == 0:
        return solve_linear_equation(b,c)
    mem = math.pow(b,2) - 4*a*c
    if mem < 0 :
        return []
    sqrt = math.sqrt(mem)
    return [(sqrt - b) / (2 * a)] if mem == 0 else [(sqrt - b) / (2 * a), (-sqrt - b) / (2 * a)] 
    


# Testing: Execute this cell. The outputs should match the expected outputs. Feel free to write more tests
print(solve_quadratic_equation(1, -1, -2)) # [-1.0, 2.0]
print(solve_quadratic_equation(1, -8, 16)) # [4.0]
print(solve_quadratic_equation(1, 1, 1)) # []
print(solve_quadratic_equation(0, 1, 1)) # [-1.0]








# sqrt domain should be positive real number
print(math.pow(9, 2), math.sqrt(81.16))

print(math.pow(9, 3)) # seems to return a float
print(pow(9, 3)) # seems to return integer







x = np.linspace(-100, 100, 1000)
y = 2 * x + 3
plt.plot(x, y)
plt.show()





ax = plt.gca()
ax.spines["bottom"].set_position("zero")
ax.spines["left"].set_position("zero")
ax.spines["top"].set_visible(False)
ax.spines["right"].set_visible(False)

x = np.linspace(-5, 5, 1000)
y = 2 * x + 3
plt.plot(x, y)
plt.show()











def plot_math_function(f, min_x, max_x, num_points):
    x = np.linspace(min_x, max_x, num_points)
    f_vectorized = np.vectorize(f)
    y = f_vectorized(x)
    ax = plt.gca()
    ax.spines["bottom"].set_position("zero")
    ax.spines["left"].set_position("zero")
    ax.spines["top"].set_visible(False)
    ax.spines["right"].set_visible(False)
    ax.set_aspect('equal', adjustable='box')
    plt.plot(x, y)
    plt.show()


plot_math_function(lambda x: 2 * x + 3, -3, 5, 1000)
plot_math_function(lambda x: -x + 8, -1, 10, 1000)
plot_math_function(lambda x: x**2 - x - 2, -3, 4, 1000)
plot_math_function(lambda x: np.sin(x), -np.pi, np.pi, 1000)
plot_math_function(lambda x: np.sin(x) / x, -4 * np.pi, 4 * np.pi, 1000)





def plot_math_functions(functions, min_x, max_x, num_points):
    # Write your code here
    pass


plot_math_functions([lambda x: 2 * x + 3, lambda x: 0], -3, 5, 1000)
plot_math_functions([lambda x: 3 * x**2 - 2 * x + 5, lambda x: 3 * x + 7], -2, 3, 1000)





plot_math_functions([lambda x: (-4 * x + 7) / 3, lambda x: (-3 * x + 8) / 5, lambda x: (-x - 1) / -2], -1, 4, 1000)








# Write your code here



