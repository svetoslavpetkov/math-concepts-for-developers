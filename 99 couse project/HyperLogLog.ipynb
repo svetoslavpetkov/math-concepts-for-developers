{
 "cells": [
  {
   "cell_type": "code",
   "execution_count": 1,
   "id": "c947226c-2f2d-43ef-bc70-4c07f38ec2dc",
   "metadata": {},
   "outputs": [
    {
     "name": "stdout",
     "output_type": "stream",
     "text": [
      "Requirement already satisfied: datasketch in c:\\users\\igenchev\\anaconda3\\lib\\site-packages (1.6.5)\n",
      "Requirement already satisfied: numpy>=1.11 in c:\\users\\igenchev\\anaconda3\\lib\\site-packages (from datasketch) (1.26.4)\n",
      "Requirement already satisfied: scipy>=1.0.0 in c:\\users\\igenchev\\anaconda3\\lib\\site-packages (from datasketch) (1.11.4)\n"
     ]
    }
   ],
   "source": [
    "import sys\n",
    "! {sys.executable} -m pip install datasketch"
   ]
  },
  {
   "cell_type": "code",
   "execution_count": 122,
   "id": "59342002-a14b-4f4c-9a61-d42b835c6752",
   "metadata": {},
   "outputs": [],
   "source": [
    "import numpy as np\n",
    "import matplotlib.pyplot as plt\n",
    "import pandas as pd\n",
    "from datasketch import HyperLogLog, HyperLogLogPlusPlus\n",
    "import itertools "
   ]
  },
  {
   "cell_type": "markdown",
   "id": "939bc27b-beb3-40b8-8fc5-fb41e5733a59",
   "metadata": {},
   "source": [
    "# HyperLogLog algorithm for cardinality estimation\n",
    "\n",
    "## Summary\n",
    "\n",
    "## Terms\n",
    "\n",
    "* The term \"**cardinality**\" is used to mean the number of distinct elements in a data stream with repeated elements. Cardinality estimation is the task of determining the number of distinct elements in a data stream y estimation\n",
    "* The term \"**dataset**\" is used as synonim for \"**multiset**\" \n",
    "\n",
    "## Problem: Cardinality estimation on huge multiset\n",
    "\n",
    "### Calculating distinct count\n",
    "    Calculating a distinc count in a given multiset has a trivial implemention. There are structures in modern languages that makes implmentation easy.\n",
    "\n",
    "```typescript\n",
    "// psudo code\n",
    "const map = new Map();\n",
    "\n",
    "for(record in ordersDataset) {\n",
    "    map.add(record.customerName)\n",
    "}\n",
    "\n",
    "consoloe.log(\"The distinc count of customers in the multiset is\" + map.size)\n",
    "\n",
    "```\n",
    "The Map implementation may varry form $ \\mathcal{O}(log(n)) $ to $ \\mathcal{O}(n) $.\n",
    "    This means the complexyty along with the multiset elements itearation will be $ \\mathcal{O}(n^2)  $. **Not so bad !**. Not at all, but we are calculating only the computational complexity.\n",
    "\n",
    "### What about memory footprint ?\n",
    "\n",
    "    In order to calculate all distinc values,we need to keep all of them in memory. Despide the fact the Map/Hashtable structures are blazing fast, they have to keep either the hashed value or both hashed and real value in memory. This depends on the implmentation of the hastable and also of the value hashing function implementation. \n",
    "   Let us have a try. Let us assume that:\n",
    "   * We are using MD5 has function which results in $128 bits = 16 Bytes$\n",
    "* our values will be strings with average length of 50 chatarcters,  charset UTF-8. This means a single character is using $32 Bits = 4 Bytes$\n",
    "* our hastabe stores the has and the real values, so that it handles hash collisions well\n",
    "\n",
    "Based on the given data we can calculate the following formula for estimating memory footprint:\n",
    "\n",
    "$$ size(text) = len(text)*4 Bytes $$\n",
    "\n",
    "$$ AllocatedMemeory = \\sum_{i=1}^{n} (size(text_n) + 16)$$\n",
    "\n",
    "This means that calculating the exact cardinality of the distinct elements in a dataset requires an amount of memory proportional to the cardinality, which is impractical for very large data sets\n",
    "\n",
    "Single string memory footpring will be $ 50 * 5 + 16 = 266 Bytes$. Sample memory foorpints based on distinct count memebers:\n",
    "\n",
    "| Dataset cardinality | Memory size (Byte) | Fromated memory size |\r\n",
    "|---------------------|--------------------|----------------------|\r\n",
    "| 100000              | 26600000           | 26,60 MB             |\r\n",
    "| 1000000             | 266000000          | 266,00 MB            |\r\n",
    "| 1000000000          | 266000000000       | 266,00 GB            |\r\n",
    "So we need at least 256 GB Memory the supportive Hashtable(Map) structure alone in order to calculateting the distinct count of a co valueslumn in a single dataset wtih cardinality 1 000 000 000\n",
    "### Can we reuse the already calculated cardianlity and cache it ?\n",
    "Yes we can - we can keep and memoize that for a given dataset and column customers we have $5*10^5$ distinct memebers. This has its advantages,  but it has one significant disatvantage: we cannot combine the cardinality of two separate cached datasets. So if **A** and **B** are two multisets:\n",
    " $$ A \\neq B $$\n",
    " $$ cardinality(A) + cardinality(B) \\neq carinality(A \\cup B)  $$\n",
    "$$ max(cardinality(A), cardinality(B)) \\le carinality(A \\cup B) \\le cardinality(A) + cardinality(B) $$\n",
    "\n",
    "## Count-distinct estimaion\n",
    "Cardinality estimation is a prediction of the distinct count values over a dataset column orIt is used where we want to sacriface 100% correctness of the results in order to get performance in terms of memory or cache optimization.\n",
    "\n",
    "Examples:\n",
    "* What is the estimated distinc count of customers over an or\n",
    "* What is the etimated distinc count of words in a given tex\n",
    "* Biological dat analisysa*  dataset.\n",
    "* Cardinality etimation is used by SQL engines Query planners (not only) to predict how many distinct elements exists in given dataset. This information is used to generate optimal queryg\n",
    ".\n",
    "\n",
    "\n"
   ]
  },
  {
   "cell_type": "markdown",
   "id": "21f8895c-62e3-4c25-956c-a34fc3961b92",
   "metadata": {},
   "source": [
    "## Hyper Log Log Algorithm\n",
    "\n",
    "### Hyper Log Log definittion\n",
    "> The basis of the HyperLogLog algorithm is the observation that the cardinality of a multiset of uniformly distributed random numbers can be estimated by calculating the maximum number of leading zeros in the binary representation of each number in the multiset. If the maximum number of leading zeros observed is n, an estimate for the number of distinct elements in the multiset is $2^n$\n",
    ">\n",
    "> In the HyperLogLog algorithm, a hash function is applied to each element in the original multiset to obtain a multiset of uniformly distributed random numbers with the same cardinality as the original multiset. The cardinality of this randomly distributed set can then be estimated using the algorithm above.\n",
    ">\n",
    "> The simple estimate of cardinality obtained using the algorithm above has the disadvantage of a large variance. In the HyperLogLog algorithm, the variance is minimised by splitting the multiset into numerous subsets, calculating the maximum number of leading zeros in the numbers in each of these subsets, and using a harmonic mean to combine these estimates for each subset into an estimate of the cardinality of the whole set.\n",
    "> \n",
    "> -- <cite>[wikipedia][HLL_wikipedia]</cite>\n",
    "\n",
    "\n",
    "### Memory footprint\n",
    "\n",
    "The new HLL algorithm makes it possible to estimate cardinalities well beyond $10^9$ with a typical error rate of 2% while using a memory of only 1.5 kilobytes.\n",
    "\n",
    "\n",
    "\n",
    "\n",
    "[HLL_wikipedia]: https://en.wikipedia.org/wiki/HyperLogLog\n",
    "\n",
    "### Hyper log log operations\n",
    "The HyperLogLog has three main operations:\n",
    "1. **add** -> adds a new element to the set\n",
    "2. **count** -> obtains the cardinality of the set\n",
    "3. **merge** -> obtains the union of two sets\n",
    "\n",
    "We can define some more (derived operations) which combines the merge of two sets and count on them:\n",
    "* **cardinality of the intersection**\n",
    "* **cardinality of the difference**\n",
    "\n",
    "#### HLL add operation\n",
    "The add operation consists of computing the hash of the input data $v$ with a hash function $h$, getting the first $b$ bits (where $b$ is $log_2(m)$ ), and  and adding 1 to them to obtain the address of the register to modify. With the remaining bits compute $\\rho(\\omega)$ which returns the position of the leftmost 1, where leftmost position is 1 (in other words: number of leading zeros plus 1). The new value of the register will be the maximum between the current value of the register and $\\rho(\\omega)$\n",
    "\n",
    "$$x := h(v)$$\n",
    "$$j:= 1 + \\langle{x_1x_2...x_b}\\rangle_2$$\n",
    "$$\\omega := x_{b+1}x_{b+2}...$$\n",
    "$$M[j]:=max(M[j],\\rho(\\omega))$$\n",
    "\n",
    "#### HLL Count operation\n",
    "\n",
    "The count algorithm operation consists in computing the harmonic mean of the $m$ registers, and using a constant to derive an estimate $E$ of the count:\n",
    "$$Z = \t\\bigg( {\\sum_{j=1}^m{2^{-M[j]}}} \\bigg)^{-1} $$\n",
    "$$\\alpha_m = \\bigg( m\\int_0^\\infty \\bigg( log_2{\\bigg( \\cfrac{2 + u}{1 + u} \\bigg)}\\bigg)^m du  \\bigg)^{-1} $$\n",
    "$$E = \\alpha_mM^2Z$$\n",
    "\n",
    "The intuition is that $n$ being the unknown cardinality of $M$, each subset $M_j$ will have $n/m$ elements. Then for $max_{x \\in M_j}(\\rho(x))$ should be close to $log_2(m/n)$. The harmonic mean of 2 to theese quanitites is $mZ$ which should be near $m/n$. Thus, $m^2Z \\simeq n$. Finally the nostant $\\alpha_m$ is introduced to correct a systematic multicaptive bias present in $m^2Z$ due to hash collisions\n",
    "\n",
    "According to the [HLL the analysis of a near-optimal cardinality estimation algorithm][HLL the analysis of a near-optimal cardinality estimation algorithm]\n",
    "The constant $\\alpha_m$ is not simple to calculate and can be approximated with the formula:\n",
    "$$  a_m \\approx \\begin{cases} 0.673, & \\text{for } m = 16; \\\\ 0.697, & \\text{for } m = 32; \\\\ 0.709, & \\text{for } m = 64; \\\\ \\frac{0.7213}{1+1.079/m}, & \\text{for } m \\geq 128. \\end{cases}$$\n",
    "\n",
    "\n",
    "\n",
    "[HLL the analysis of a near-optimal cardinality estimation algorithm]: https://algo.inria.fr/flajolet/Publications/FlFuGaMe07.pdf \"HyperLogLog: the analysis of a near-optimal \n",
    "cardinality estimation algorithm\"\n"
   ]
  },
  {
   "cell_type": "markdown",
   "id": "706287e6-0e65-46bd-88cd-94e398c06bdc",
   "metadata": {},
   "source": [
    "#### HLL merge operation\n",
    "\n",
    "The merge operation for two HLLs ($hll_1, hll_2$) is obtaining the maximum for each pair of registers $j:1..m$\n",
    "$$ hll_union[j] = max(hll1[j], hll2[j]) $$\n",
    "\n",
    "Now the restriction of linear counting and combining two cardinalities can be achieved. Lets introduce operation merge of two cardinalities with the sign of $\\oplus$. \n",
    "$$ M_1, M_2, M_3 \\text{ are multisets} $$\n",
    "$$ M_1 \\neq M_2 \\neq M_3 $$\n",
    "$$ hll = f(x), \\text{where } x \\text{ is a multiset} $$\n",
    "$$ m_1 = hll(M_1) $$\n",
    "$$ m_2 = hll(M_2) $$\n",
    "$$ m_3 = hll(M_3) $$\n",
    "$$ m_1 \\oplus m_2 = hll(M_1 \\cup M_2) $$\n",
    "$$ m_1 \\oplus m_2 = m_2 \\oplus m_1 $$\n",
    "$$ (m_1 \\oplus m_2 ) \\oplus m_3 = m_1 \\oplus ( m_2 \\oplus m_3 ) $$"
   ]
  },
  {
   "cell_type": "markdown",
   "id": "7da82780-166b-4372-95c9-8e2a863fff46",
   "metadata": {},
   "source": [
    "### Error rates based on p\n",
    "We will use a public datasource to observe how error rate changes based on chane of $p$, where $m = 2 ^p$. The theory tells us we have tipycal error rate of 2%\n"
   ]
  },
  {
   "cell_type": "code",
   "execution_count": 136,
   "id": "4d23d611-329d-4d0d-b60e-627820970f43",
   "metadata": {},
   "outputs": [
    {
     "ename": "SyntaxError",
     "evalue": "expected ':' (2571749941.py, line 7)",
     "output_type": "error",
     "traceback": [
      "\u001b[1;36m  Cell \u001b[1;32mIn[136], line 7\u001b[1;36m\u001b[0m\n\u001b[1;33m    def plot_error_rates(title, x_label, y_label, x_values, y_values )\u001b[0m\n\u001b[1;37m                                                                      ^\u001b[0m\n\u001b[1;31mSyntaxError\u001b[0m\u001b[1;31m:\u001b[0m expected ':'\n"
     ]
    }
   ],
   "source": [
    "steam_games = pd.read_csv('data/steam-games.csv')\n",
    "steam_publishers = steam_games['publisher'].to_numpy(na_value='no value')\n",
    "\n",
    "def get_error_rate(estiamtedCount, realCount):\n",
    "    return np.abs(estiamtedCount - realCount) * 100 / realCount\n",
    "\n",
    "def plot_error_rates(title, x_label, y_label, x_values, y_values ):\n",
    "    pass\n",
    "\n",
    "steam_publishers_distinct_count = len(set(steam_publishers))\n",
    "\n",
    "pValues = range(4, 17)\n",
    "hlls = [HyperLogLog(p) for p in pValues ]\n",
    "\n",
    "for value in steam_publishers:\n",
    "    if isinstance(value, str):\n",
    "        for hll in hlls:\n",
    "            hll.update(value.encode('utf-8'))\n",
    "\n",
    "error_rates_in_percent = [ get_error_rate(hll.count(), steam_publishers_distinct_count)  for hll in hlls]\n",
    "\n",
    "plt.title(\"HyperLogLog accuracy based on p\")\n",
    "plt.plot(pValues, error_rates_in_percent, c = \"red\")\n",
    "plt.scatter(pValues, error_rates_in_percent, c = \"red\")\n",
    "plt.hlines(2.0, xmin=4 , xmax = 16, colors=\"green\") \n",
    "plt.xlabel(\"value of p\")\n",
    "plt.ylabel(\"Error rate (%)\")\n",
    "plt.show()\n"
   ]
  },
  {
   "cell_type": "markdown",
   "id": "6e0ba851-f626-4944-ad5f-868846a2f7b1",
   "metadata": {},
   "source": [
    "### Error rates based on real cardinality\n",
    "We will oberve the error rates based on the input cardinality"
   ]
  },
  {
   "cell_type": "code",
   "execution_count": 116,
   "id": "48340ab1-cd61-4d06-b262-c740b6d2b493",
   "metadata": {},
   "outputs": [
    {
     "name": "stderr",
     "output_type": "stream",
     "text": [
      "C:\\Users\\igenchev\\anaconda3\\Lib\\site-packages\\datasketch\\hyperloglog.py:151: UserWarning: Warning: estimate is close to error correction threshold. Output may not satisfy HyperLogLog accuracy guarantee.\n",
      "  warnings.warn(\n"
     ]
    },
    {
     "data": {
      "image/png": "[encoded data removed]",
      "text/plain": [
       "<Figure size 640x480 with 1 Axes>"
      ]
     },
     "metadata": {},
     "output_type": "display_data"
    }
   ],
   "source": [
    "input_count = [1000, 2000, 3000, 4000, 5000, 10000, 15000, 20000, 25000, 26000, 32000, 35000, 36000, 38000, 40000]\n",
    "\n",
    "datasets = [ steam_publishers[:count] for count in input_count ]\n",
    "\n",
    "def get_hll_obj(dataset, p = 10):\n",
    "    _hll = HyperLogLog(p)\n",
    "    for value in dataset:\n",
    "        if isinstance(value, str):\n",
    "            _hll.update(value.encode('utf-8'))\n",
    "    return _hll\n",
    "\n",
    "def estimate_cardinality(dataset, p=10):\n",
    "    _hll = HyperLogLog(p)\n",
    "    for value in dataset:\n",
    "        if isinstance(value, str):\n",
    "            _hll.update(value.encode('utf-8'))\n",
    "    result = _hll.count()\n",
    "    return result\n",
    "\n",
    "datasets_cardinality = [ len(set(dataset)) for dataset in datasets]\n",
    "hyperLogLogs = [ get_hll_obj(dataset) for dataset in datasets ]\n",
    "estimated_cardinality = [ hll.count() for hll in hyperLogLogs ]\n",
    "error_rates = [ get_error_rate(estimmated, real) for (real, estimmated) in zip(datasets_cardinality, estimated_cardinality) ]\n",
    "\n",
    "plt.title(\"HyperLogLog accuracy based on input cardinality\")\n",
    "plt.plot(datasets_cardinality, error_rates, c = \"red\")\n",
    "plt.scatter(datasets_cardinality, error_rates, c = \"red\")\n",
    "plt.hlines(2.0, xmin=0 , xmax = np.max(datasets_cardinality) + 1000, colors=\"green\")\n",
    "plt.xlim([0, np.max(datasets_cardinality) + 1000])\n",
    "plt.ylim([0, 20])\n",
    "plt.xlabel(\"input real cardinality\")\n",
    "plt.ylabel(\"Error rate (%)\")\n",
    "plt.show()\n"
   ]
  },
  {
   "cell_type": "markdown",
   "id": "94b59d9f-39b2-4077-ac0f-29cfb423d171",
   "metadata": {},
   "source": [
    "We observe that with the current dataset, the estiamted count is bellow the 2% error rate treshold for cardnalities bigger than 8000. This may vary depending on the chosed data."
   ]
  },
  {
   "cell_type": "markdown",
   "id": "003fa48b-4f42-46fc-a3a6-d54674fbc967",
   "metadata": {},
   "source": [
    "### Lets try the merge of two hyperlog logs and what error rate it has\n",
    "We will try to merge to hll registries and we should recieve as if we have done this separately"
   ]
  },
  {
   "cell_type": "code",
   "execution_count": 135,
   "id": "78e4d2f4-9cc1-4082-8ce0-6a5e42a5e782",
   "metadata": {},
   "outputs": [
    {
     "name": "stdout",
     "output_type": "stream",
     "text": [
      "[(0, 1), (0, 2), (0, 3), (0, 4), (1, 2), (1, 3), (1, 4), (2, 3), (2, 4), (3, 4)]\n"
     ]
    },
    {
     "data": {
      "image/png": "[encoded data removed]",
      "text/plain": [
       "<Figure size 640x480 with 1 Axes>"
      ]
     },
     "metadata": {},
     "output_type": "display_data"
    }
   ],
   "source": [
    "def get_merged_cardinality(hll1, hll2):\n",
    "    # We intentionally create new HLL object, not to modify the original ones\n",
    "    newHLL = HyperLogLog( p = 10, reg=hll1.reg)\n",
    "    newHLL.merge(hll2)\n",
    "    return newHLL.count()\n",
    "\n",
    "chunks_count = 5\n",
    "\n",
    "chunked_datasets = [ steam_publishers[::step] for step in range(1, chunks_count +1)] \n",
    "\n",
    "hll_for_merge =  [ get_hll_obj(dataset) for dataset in chunked_datasets ]\n",
    "\n",
    "dataset_indexes_to_merge = list(itertools.combinations(range(chunks_count), 2))\n",
    "\n",
    "print(dataset_indexes_to_merge)\n",
    "merged_datasets = [ np.concatenate((chunked_datasets[indexes[0]],chunked_datasets[indexes[1]])) for indexes in dataset_indexes_to_merge ]\n",
    "merged_real_cardinality = [ len(set(dataset))  for dataset in merged_datasets ]\n",
    "merged_estimatd_cardinality = [ get_merged_cardinality(hll_for_merge[indexes[0]], hll_for_merge[indexes[1]]) for indexes in dataset_indexes_to_merge ]\n",
    "estiamted_cardinality_on_the_whole = [estimate_cardinality(dataset) for dataset in merged_datasets ]\n",
    "merged_error_rate = [ get_error_rate(estimmated, real) for (real, estimmated) in zip(merged_real_cardinality, merged_estimatd_cardinality) ]\n",
    "\n",
    "merged_x = range(1 ,len(dataset_indexes_to_merge) + 1) \n",
    "\n",
    "\n",
    "plt.title(\"HyperLogLog merge accuracy\")\n",
    "plt.plot(merged_x, merged_error_rate, c = \"red\")\n",
    "plt.scatter(merged_x, merged_error_rate, c = \"red\")\n",
    "plt.hlines(2.0, xmin=0 , xmax = np.max(merged_x) + 1, colors=\"green\")\n",
    "plt.xlim([0, np.max(merged_x) + 1])\n",
    "plt.ylim([0, 20])\n",
    "plt.xlabel(\"attempt\")\n",
    "plt.ylabel(\"Error rate (%)\")\n",
    "plt.show()"
   ]
  },
  {
   "cell_type": "code",
   "execution_count": null,
   "id": "646986ad-3e65-41ef-8119-92e83954fa35",
   "metadata": {},
   "outputs": [],
   "source": []
  }
 ],
 "metadata": {
  "kernelspec": {
   "display_name": "Python 3 (ipykernel)",
   "language": "python",
   "name": "python3"
  },
  "language_info": {
   "codemirror_mode": {
    "name": "ipython",
    "version": 3
   },
   "file_extension": ".py",
   "mimetype": "text/x-python",
   "name": "python",
   "nbconvert_exporter": "python",
   "pygments_lexer": "ipython3",
   "version": "3.11.7"
  }
 },
 "nbformat": 4,
 "nbformat_minor": 5
}
