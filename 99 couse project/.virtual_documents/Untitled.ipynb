import math
import struct
from hashlib import sha1


hashmap_min_size = 4
hashmap_max_size = 16

def get_alpfa(hash_map_size):
    assert hash_map_size >= hashmap_min_size
    assert hash_map_size <= hashmap_max_size

    if hash_map_size == 4:
        return 0.673
    if hash_map_size == 5:
        return 0.697
    if hash_map_size == 6:
        return 0.709

    m = 2**hash_map_size
    return 0.7213/(1 + 1.079/m)

    



class HLL(object):
  def __init__(self, hashFunc = sha1):
      # hardcoded inputs for now 64 registers
      self.hash_map_size = 6

      self.alpha = get_alpfa(self.hash_map_size)
      self.regiesters = [0 for i in range(2 ** self.hash_map_size)] 
      
    


1 << 4


2 ** 6



