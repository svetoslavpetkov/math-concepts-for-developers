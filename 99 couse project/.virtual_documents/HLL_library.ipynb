import sys
!{sys.executable} -m pip install mmh3


import math
import struct
import numpy as np 
from hashlib import sha1
import mmh3
import pandas as pd


hashmap_min_size = 4
hashmap_max_size = 16

def get_alpfa(hash_map_size):
    assert hash_map_size >= hashmap_min_size
    assert hash_map_size <= hashmap_max_size

    if hash_map_size == 4:
        return 0.673
    if hash_map_size == 5:
        return 0.697
    if hash_map_size == 6:
        return 0.709

    m = 2**hash_map_size
    return 0.7213/((1 + 1.079)/m)

# aka rho in the algorythm
def get_leading_zeros(number, max_bits):
    return max_bits - number.bit_length() + 1 
    



class HLL(object):
    """
    HLL Cardinality counter
    """
    _hash_range_bit = 32
    def __init__(self, p =8, debug = False):
        # hardcoded inputs for now 64 registers =  2 ^ p

        self.debug = debug
        
        self.p = p
        self.m = 1 << p;
        self.alpha = get_alpfa(self.p)
        self.M = [0 for i in range(self.m)]
        self.max_rank = self._hash_range_bit - self.p


    def log(self, text):
        if self.debug:
            print(text)
    
    def getHash(self, value):
        """
        returns hased value
        """
        return mmh3.hash(value)
    
    def add(self, value):
        """
        Adds new value to HLL register
        """
        #hashed value
        x = self.getHash(value)
        self.log(f'hash of {value} is {x}')
        
        # registry index
        j = x & (self.m - 1)
        self.log(f'index = {j}')
        w = x >> self.p
        self.log(f'w = {w}')
        leading_zeroes = get_leading_zeros(w, self.m - self.p)
        self.log(f'leading zeores = {leading_zeroes}')
        self.M[j] = max(self.M[j], leading_zeroes)

    def count(self):
        """
        returns estimated cardinality, no bias correction for now
        """
        
        E = self.alpha * (self.m**2) * math.sqrt(np.sum([ 2 ** (-x) for x in self.M ]))

        if E <= 5*self.m/2:
            registers_wtih_no_data = self.M.count(0)
            if registers_wtih_no_data > 0:
                self.log('linear counting')
                return int(self.m * math.log(self.m / float(registers_with_zeros)))
            else:
                self.log('we cannot do correction')
                return int(E)
        elif E <= (2**32)/30:
            self.log('nuber is within range')
            return int(E)
        else:
            self.log('We may need some more calculation')
            return int(E)

    def getM(self):
        return self.M


# steam_games = pd.read_csv('data/steam-games.csv')

# hll = HLL(debug=True)

# for item in steam_games['developer']:
#     hll.add(item)


# print(hll.count())

# real_set = set(steam_games['developer'])
# print(len(real_set))

hll = HLL(debug=True)
hll.add("Ivan")
hll.add("Ivan")
hll.add("Ivan")
hll.add("Ivan 1")

hll.count()


6488641157280910508 & 63


a = 4439016261869266368
a.bit_length()


np.sum([-1, 5])


2 ** (-2)


q = 101385018082514226
q.bit_length()


1 << 8



