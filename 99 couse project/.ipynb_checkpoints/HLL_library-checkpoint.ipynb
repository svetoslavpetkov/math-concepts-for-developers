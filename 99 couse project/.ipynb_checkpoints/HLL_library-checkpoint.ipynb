{
 "cells": [
  {
   "cell_type": "code",
   "execution_count": 1,
   "id": "8306b1bb-4de1-463d-b209-f67a57d99dfb",
   "metadata": {},
   "outputs": [
    {
     "name": "stdout",
     "output_type": "stream",
     "text": [
      "Requirement already satisfied: mmh3 in c:\\users\\igenchev\\anaconda3\\lib\\site-packages (4.1.0)\n",
      "Collecting datasketch\n",
      "  Downloading datasketch-1.6.5-py3-none-any.whl.metadata (5.8 kB)\n",
      "Requirement already satisfied: numpy>=1.11 in c:\\users\\igenchev\\anaconda3\\lib\\site-packages (from datasketch) (1.26.4)\n",
      "Requirement already satisfied: scipy>=1.0.0 in c:\\users\\igenchev\\anaconda3\\lib\\site-packages (from datasketch) (1.11.4)\n",
      "Downloading datasketch-1.6.5-py3-none-any.whl (89 kB)\n",
      "   ---------------------------------------- 0.0/89.2 kB ? eta -:--:--\n",
      "   ---- ----------------------------------- 10.2/89.2 kB ? eta -:--:--\n",
      "   ------------------ --------------------- 41.0/89.2 kB 667.8 kB/s eta 0:00:01\n",
      "   ---------------------------------------- 89.2/89.2 kB 1.0 MB/s eta 0:00:00\n",
      "Installing collected packages: datasketch\n",
      "Successfully installed datasketch-1.6.5\n"
     ]
    }
   ],
   "source": [
    "import sys\n",
    "!{sys.executable} -m pip install mmh3\n",
    "! {sys.executable} -m pip install datasketch"
   ]
  },
  {
   "cell_type": "code",
   "execution_count": 5,
   "id": "7f18a8ee-fcf2-47b7-9468-566186d5cd3f",
   "metadata": {},
   "outputs": [],
   "source": [
    "import math\n",
    "import struct\n",
    "import numpy as np \n",
    "from hashlib import sha1\n",
    "import mmh3\n",
    "import pandas as pd\n",
    "from datasketch import HyperLogLog, HyperLogLogPlusPlus"
   ]
  },
  {
   "cell_type": "code",
   "execution_count": 6,
   "id": "72bf0517-7e0d-4bd8-b134-09856503b8ca",
   "metadata": {},
   "outputs": [],
   "source": [
    "hashmap_min_size = 4\n",
    "hashmap_max_size = 16\n",
    "\n",
    "def get_alpfa(hash_map_size):\n",
    "    assert hash_map_size >= hashmap_min_size\n",
    "    assert hash_map_size <= hashmap_max_size\n",
    "\n",
    "    if hash_map_size == 4:\n",
    "        return 0.673\n",
    "    if hash_map_size == 5:\n",
    "        return 0.697\n",
    "    if hash_map_size == 6:\n",
    "        return 0.709\n",
    "\n",
    "    return 0.7213/((1 + 1.079)/(1 << hash_map_size))\n",
    "\n",
    "# aka rho in the algorythm\n",
    "def get_leading_zeros(number, max_bits):\n",
    "    return max_bits - number.bit_length() + 1 \n",
    "    \n"
   ]
  },
  {
   "cell_type": "code",
   "execution_count": 7,
   "id": "128666b3-ae21-493f-973d-ab34c1e8a462",
   "metadata": {
    "editable": true,
    "slideshow": {
     "slide_type": ""
    },
    "tags": []
   },
   "outputs": [],
   "source": [
    "class HLL(object):\n",
    "    \"\"\"\n",
    "    HLL Cardinality counter\n",
    "    \"\"\"\n",
    "    _hash_range_bit = 64\n",
    "    def __init__(self, p = 8, debug = False):\n",
    "        self.debug = debug\n",
    "        \n",
    "        self.p = p\n",
    "        self.m = 1 << p;\n",
    "        self.alpha = get_alpfa(self.p)\n",
    "        self.M = np.zeros((self.m,), dtype=np.int8)\n",
    "        self.max_rank = self._hash_range_bit - self.p\n",
    "\n",
    "\n",
    "    def log(self, text):\n",
    "        if self.debug:\n",
    "            print(text)\n",
    "    \n",
    "    def getHash(self, value):\n",
    "        \"\"\"\n",
    "        returns hased value\n",
    "        \"\"\"\n",
    "        corected_value = value\n",
    "        if isinstance(value, str):\n",
    "            corected_value = value.encode('utf-8')\n",
    "        elif isinstance(value, float):\n",
    "            corected_value = str(value).encode('utf-8')\n",
    "        elif not isinstance(value, bytes):\n",
    "            corected_value = bytes(value)\n",
    "        return mmh3.hash64(corected_value)[0]\n",
    "    \n",
    "    def add(self, value):\n",
    "        \"\"\"\n",
    "        Adds new value to HLL register\n",
    "        \"\"\"\n",
    "        #hashed value\n",
    "        x = self.getHash(value)\n",
    "        self.log(f'hash of {value} is {x}')\n",
    "        \n",
    "        # registry index using first p bits of the hash\n",
    "        j = x & (self.m - 1)\n",
    "        self.log(f'index = {j}')\n",
    "        # get the rest bits\n",
    "        w = x >> self.p\n",
    "        self.log(f'w = {w}')\n",
    "        leading_zeroes = get_leading_zeros(w, self.max_rank)\n",
    "        self.log(f'leading zeores = {leading_zeroes}')\n",
    "        self.M[j] = max(self.M[j], leading_zeroes)\n",
    "\n",
    "    def count(self):\n",
    "        \"\"\"\n",
    "        returns estimated cardinality, no bias correction for now\n",
    "        \"\"\"\n",
    "        znamenatel = np.sum(2.0 ** (-self.M))\n",
    "        self.log(f'znamenatel = {znamenatel}')\n",
    "        chislitel = float((self.m**2))\n",
    "        self.log(f'chislitel = {chislitel}')\n",
    "        \n",
    "        E = self.alpha * float((self.m**2)) / np.sum(2.0 ** (-self.M))\n",
    "\n",
    "        self.log(f'E={E}')\n",
    "        \n",
    "        if E <= 5*self.m/2:\n",
    "            registers_wtih_no_data = self.m - np.count_nonzero(self.M)\n",
    "            if registers_wtih_no_data > 0:\n",
    "                self.log('linear counting')\n",
    "                return int(self.m * np.log(self.m / float(registers_with_zeros)))\n",
    "            else:\n",
    "                self.log('we cannot do correction')\n",
    "                return int(E)\n",
    "        elif E <= (2**32)/30:\n",
    "            self.log('number is within range')\n",
    "            return int(E)\n",
    "        else:\n",
    "            self.log('We may need some more calculation')\n",
    "            return int(E)\n",
    "\n",
    "    def getRegistry(self):\n",
    "        return self.M"
   ]
  },
  {
   "cell_type": "code",
   "execution_count": 34,
   "id": "f47df07c-f183-4b6f-b41e-ab3219a8c8a1",
   "metadata": {},
   "outputs": [
    {
     "name": "stdout",
     "output_type": "stream",
     "text": [
      "-----------------------------------------------------\n",
      "Real count 559\n",
      "custom implmentation HLL = 6519977\n",
      "imported HLL implementation = 562.9759158094188\n",
      "imported HLL plus plus implementation = 562.9759158094188\n",
      "-----------------------------------------------------\n",
      "Real count 1526\n",
      "custom implmentation HLL = 7848073\n",
      "imported HLL implementation = 1528.9303154163078\n",
      "imported HLL plus plus implementation = 1528.9303154163078\n",
      "-----------------------------------------------------\n",
      "Real count 4602\n",
      "custom implmentation HLL = 13866068\n",
      "imported HLL implementation = 4678.7643518776185\n",
      "imported HLL plus plus implementation = 4669.2892845591705\n",
      "-----------------------------------------------------\n",
      "Real count 20987\n",
      "custom implmentation HLL = 78377796\n",
      "imported HLL implementation = 20975.5390444693\n",
      "imported HLL plus plus implementation = 21328.666796072182\n",
      "-----------------------------------------------------\n",
      "Real count 25127\n",
      "custom implmentation HLL = 97544284\n",
      "imported HLL implementation = 25592.33040029977\n",
      "imported HLL plus plus implementation = 25344.148416091106\n"
     ]
    }
   ],
   "source": [
    "steam_games = pd.read_csv('data/steam-games.csv')\n",
    "\n",
    "datasets = [\n",
    "    steam_games['content_descriptor'],\n",
    "    steam_games['genres'],\n",
    "    steam_games['categories'],\n",
    "    steam_games['publisher'],\n",
    "    steam_games['developer'],\n",
    "]\n",
    "\n",
    "\n",
    "for dataset in datasets:\n",
    "    print('-----------------------------------------------------')\n",
    "    real_set = set(dataset)\n",
    "    print(f'Real count {len(real_set)}')\n",
    "    myHll = HLL(debug=False, p = 12)\n",
    "    hll = HyperLogLog(p=12)\n",
    "    hpp = HyperLogLogPlusPlus(p=12)\n",
    "    \n",
    "    for item in dataset:\n",
    "        myHll.add(item)\n",
    "        if isinstance(item, str):\n",
    "            hll.update(item.encode('utf-8'))\n",
    "            hpp.update(item.encode('utf-8'))\n",
    "    \n",
    "    print(f'custom implmentation HLL = {myHll.count()}')\n",
    "    print(f'imported HLL implementation = {hll.count()}')\n",
    "    print(f'imported HLL plus plus implementation = {hpp.count()}')\n",
    "    \n",
    "\n",
    "\n",
    "# hll = HLL(debug=True)\n",
    "# hll.add(\"Ivan\")\n",
    "# hll.add(\"Ivan\")\n",
    "# hll.add(\"Ivan\")\n",
    "# hll.add(\"Ivan 1\")\n",
    "\n",
    "# hll.count()"
   ]
  },
  {
   "cell_type": "code",
   "execution_count": 41,
   "id": "7bb074e2-31e3-4ac0-93ee-d8b03dc70786",
   "metadata": {},
   "outputs": [
    {
     "name": "stdout",
     "output_type": "stream",
     "text": [
      "-----------------------------------------------------\n",
      "Real count 559\n",
      "estiamted count for p=4 is 678.5496615384616 . Error rate: 21.386343745699747\n",
      "estiamted count for p=5 is 710.9508482490272 . Error rate: 27.182620438108625\n",
      "estiamted count for p=6 is 562.7860590461771 . Error rate: 0.6772914214985895\n",
      "estiamted count for p=7 is 546.9575006341646 . Error rate: 2.1542932675913056\n",
      "estiamted count for p=8 is 605.983645217694 . Error rate: 8.404945477226109\n",
      "estiamted count for p=9 is 570.5526505657593 . Error rate: 2.0666637863612407\n",
      "estiamted count for p=10 is 557.6627059064915 . Error rate: 0.23922971261332554\n",
      "estiamted count for p=11 is 562.6783363503338 . Error rate: 0.6580208140131985\n",
      "estiamted count for p=12 is 562.9759158094188 . Error rate: 0.7112550642967406\n",
      "estiamted count for p=13 is 563.9754074936427 . Error rate: 0.890055007807282\n"
     ]
    },
    {
     "name": "stderr",
     "output_type": "stream",
     "text": [
      "C:\\Users\\igenchev\\anaconda3\\Lib\\site-packages\\datasketch\\hyperloglog.py:151: UserWarning: Warning: estimate is close to error correction threshold. Output may not satisfy HyperLogLog accuracy guarantee.\n",
      "  warnings.warn(\n"
     ]
    },
    {
     "name": "stdout",
     "output_type": "stream",
     "text": [
      "estiamted count for p=14 is 558.4088083086419 . Error rate: 0.10575879988516325\n",
      "estiamted count for p=15 is 559.7538429928829 . Error rate: 0.13485563378943421\n",
      "estiamted count for p=16 is 560.3890895812337 . Error rate: 0.2484954528146239\n",
      "-----------------------------------------------------\n",
      "Real count 1526\n",
      "estiamted count for p=4 is 1809.4657641025642 . Error rate: 18.575738145646408\n",
      "estiamted count for p=5 is 1576.8230248112188 . Error rate: 3.330473447655231\n",
      "estiamted count for p=6 is 1745.6774499559729 . Error rate: 14.395638922409754\n",
      "estiamted count for p=7 is 1518.3459940423322 . Error rate: 0.5015731295981506\n",
      "estiamted count for p=8 is 1584.7991246341862 . Error rate: 3.853153645752702\n",
      "estiamted count for p=9 is 1557.4908669556637 . Error rate: 2.0636216877892335\n",
      "estiamted count for p=10 is 1574.7525214690218 . Error rate: 3.1947917083238373\n",
      "estiamted count for p=11 is 1556.0114343701252 . Error rate: 1.966673287688417\n",
      "estiamted count for p=12 is 1528.9303154163078 . Error rate: 0.1920259119467791\n",
      "estiamted count for p=13 is 1519.619540530975 . Error rate: 0.41811661002785233\n",
      "estiamted count for p=14 is 1518.2193662949364 . Error rate: 0.5098711471208103\n",
      "estiamted count for p=15 is 1519.7015379284737 . Error rate: 0.4127432550148279\n",
      "estiamted count for p=16 is 1523.5734861432184 . Error rate: 0.1590113929738951\n",
      "-----------------------------------------------------\n",
      "Real count 4602\n",
      "estiamted count for p=4 is 4951.136315720237 . Error rate: 7.586621375928656\n",
      "estiamted count for p=5 is 3803.91804236978 . Error rate: 17.342067745115603\n",
      "estiamted count for p=6 is 4553.073248023349 . Error rate: 1.063162798275768\n",
      "estiamted count for p=7 is 4308.680544803848 . Error rate: 6.373738704827301\n",
      "estiamted count for p=8 is 4389.57060244654 . Error rate: 4.616023414894832\n",
      "estiamted count for p=9 is 4587.570315049407 . Error rate: 0.3135524761102276\n",
      "estiamted count for p=10 is 4741.085997068162 . Error rate: 3.0222945907901395\n",
      "estiamted count for p=11 is 4664.343460745073 . Error rate: 1.3547036233175285\n",
      "estiamted count for p=12 is 4678.7643518776185 . Error rate: 1.6680650125514676\n",
      "estiamted count for p=13 is 4586.372778947351 . Error rate: 0.3395745556855403\n",
      "estiamted count for p=14 is 4600.439924740238 . Error rate: 0.033899940455497955\n",
      "estiamted count for p=15 is 4627.954812379919 . Error rate: 0.5639898387639857\n",
      "estiamted count for p=16 is 4607.215691023811 . Error rate: 0.11333531125186669\n",
      "-----------------------------------------------------\n",
      "Real count 20987\n",
      "estiamted count for p=4 is 16953.553105105108 . Error rate: 19.21878732022153\n",
      "estiamted count for p=5 is 18967.914926196267 . Error rate: 9.620646465925256\n",
      "estiamted count for p=6 is 20311.711665314833 . Error rate: 3.2176506155485147\n",
      "estiamted count for p=7 is 21299.45765407035 . Error rate: 1.4888152383396829\n",
      "estiamted count for p=8 is 20675.271748675757 . Error rate: 1.4853397404309459\n",
      "estiamted count for p=9 is 21065.99249699247 . Error rate: 0.37638774952336523\n",
      "estiamted count for p=10 is 21229.048157948564 . Error rate: 1.1533242385694193\n",
      "estiamted count for p=11 is 20569.62697518977 . Error rate: 1.9887217077725698\n",
      "estiamted count for p=12 is 20975.5390444693 . Error rate: 0.054609784774859296\n",
      "estiamted count for p=13 is 21362.149361502085 . Error rate: 1.787532098451825\n",
      "estiamted count for p=14 is 20951.258744873518 . Error rate: 0.17030187795531723\n",
      "estiamted count for p=15 is 20873.65265619445 . Error rate: 0.5400835936796666\n",
      "estiamted count for p=16 is 20901.191056745334 . Error rate: 0.40886712371785294\n",
      "-----------------------------------------------------\n",
      "Real count 25127\n",
      "estiamted count for p=4 is 32633.139791907517 . Error rate: 29.87280531662163\n",
      "estiamted count for p=5 is 28909.071822002472 . Error rate: 15.051824021978238\n",
      "estiamted count for p=6 is 29145.59545237366 . Error rate: 15.993136675184694\n",
      "estiamted count for p=7 is 29998.275294526546 . Error rate: 19.386617162918554\n",
      "estiamted count for p=8 is 27294.226970961634 . Error rate: 8.625092414381479\n",
      "estiamted count for p=9 is 27207.55586981587 . Error rate: 8.280160265116692\n",
      "estiamted count for p=10 is 26566.87588802804 . Error rate: 5.730393154885343\n",
      "estiamted count for p=11 is 25840.253747167255 . Error rate: 2.8385949264426906\n",
      "estiamted count for p=12 is 25592.33040029977 . Error rate: 1.8519138786953013\n",
      "estiamted count for p=13 is 25368.147373490916 . Error rate: 0.9597141461014682\n",
      "estiamted count for p=14 is 25214.669111855786 . Error rate: 0.3489040150268097\n",
      "estiamted count for p=15 is 25074.10141927259 . Error rate: 0.21052485663792403\n",
      "estiamted count for p=16 is 25081.649418740715 . Error rate: 0.1804854589058973\n"
     ]
    }
   ],
   "source": [
    "for dataset in datasets:\n",
    "    print('-----------------------------------------------------')\n",
    "    real_set = set(dataset)\n",
    "    real_count = len(real_set)\n",
    "    print(f'Real count {real_count}')\n",
    "\n",
    "    errorRates = []\n",
    "    pValues = range(4,17)\n",
    "    for p in pValues:\n",
    "        hll = HyperLogLog(p)\n",
    "        for item in dataset:\n",
    "            if isinstance(item, str):\n",
    "                hll.update(item.encode('utf-8'))\n",
    "        hllHount = hll.count()\n",
    "        errorRate = np.abs(hllHount - real_count)* 100 / real_count\n",
    "        print(f'estiamted count for p={p} is {hllHount} . Error rate: {errorRate}')\n",
    "        errorRates.append(errorRate)\n",
    "        "
   ]
  },
  {
   "cell_type": "code",
   "execution_count": 39,
   "id": "f7a2b75f-34a1-4498-a24f-81b6921fca3b",
   "metadata": {},
   "outputs": [
    {
     "data": {
      "text/plain": [
       "5"
      ]
     },
     "execution_count": 39,
     "metadata": {},
     "output_type": "execute_result"
    }
   ],
   "source": [
    "np.abs(-5)"
   ]
  },
  {
   "cell_type": "code",
   "execution_count": 30,
   "id": "819da273-9b30-4e59-850a-be43f44613be",
   "metadata": {},
   "outputs": [
    {
     "data": {
      "text/plain": [
       "23"
      ]
     },
     "execution_count": 30,
     "metadata": {},
     "output_type": "execute_result"
    }
   ],
   "source": [
    "a = 6593149\n",
    "a.bit_length()"
   ]
  },
  {
   "cell_type": "code",
   "execution_count": 54,
   "id": "56eb1159-d33f-4719-80c7-83bfeb87e6bc",
   "metadata": {},
   "outputs": [
    {
     "data": {
      "text/plain": [
       "array([0.5    , 0.03125])"
      ]
     },
     "execution_count": 54,
     "metadata": {},
     "output_type": "execute_result"
    }
   ],
   "source": [
    "2.0**(-np.array([1, 5]))"
   ]
  },
  {
   "cell_type": "code",
   "execution_count": 37,
   "id": "b83612fc-fe14-4c4d-ab02-1c18ac760d22",
   "metadata": {},
   "outputs": [
    {
     "data": {
      "text/plain": [
       "array([ 4,  5,  6,  7,  8,  9, 10, 11, 12, 13, 14, 15])"
      ]
     },
     "execution_count": 37,
     "metadata": {},
     "output_type": "execute_result"
    }
   ],
   "source": [
    "np.array(range(4,16))"
   ]
  },
  {
   "cell_type": "code",
   "execution_count": 7,
   "id": "223d3eea-f1d3-4969-ac47-05f2f47a6ad8",
   "metadata": {},
   "outputs": [
    {
     "data": {
      "text/plain": [
       "57"
      ]
     },
     "execution_count": 7,
     "metadata": {},
     "output_type": "execute_result"
    }
   ],
   "source": [
    "q = 101385018082514226\n",
    "q.bit_length()"
   ]
  },
  {
   "cell_type": "code",
   "execution_count": 25,
   "id": "2e05607e-6034-4b2d-928d-8a4114145010",
   "metadata": {},
   "outputs": [
    {
     "data": {
      "text/plain": [
       "256"
      ]
     },
     "execution_count": 25,
     "metadata": {},
     "output_type": "execute_result"
    }
   ],
   "source": [
    "1 << 8"
   ]
  },
  {
   "cell_type": "code",
   "execution_count": 58,
   "id": "43bd7cc2-26db-4be4-a25c-40d03865ca03",
   "metadata": {},
   "outputs": [
    {
     "data": {
      "text/plain": [
       "256"
      ]
     },
     "execution_count": 58,
     "metadata": {},
     "output_type": "execute_result"
    }
   ],
   "source": [
    "2 ** 8"
   ]
  },
  {
   "cell_type": "code",
   "execution_count": null,
   "id": "8460e11b-43e1-41c0-9274-302d25d054c1",
   "metadata": {},
   "outputs": [],
   "source": []
  }
 ],
 "metadata": {
  "kernelspec": {
   "display_name": "Python 3 (ipykernel)",
   "language": "python",
   "name": "python3"
  },
  "language_info": {
   "codemirror_mode": {
    "name": "ipython",
    "version": 3
   },
   "file_extension": ".py",
   "mimetype": "text/x-python",
   "name": "python",
   "nbconvert_exporter": "python",
   "pygments_lexer": "ipython3",
   "version": "3.11.7"
  }
 },
 "nbformat": 4,
 "nbformat_minor": 5
}
