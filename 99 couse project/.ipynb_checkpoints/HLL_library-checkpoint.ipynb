{
 "cells": [
  {
   "cell_type": "code",
   "execution_count": 2,
   "id": "7f18a8ee-fcf2-47b7-9468-566186d5cd3f",
   "metadata": {},
   "outputs": [],
   "source": [
    "import math\n",
    "import struct\n",
    "from hashlib import sha1"
   ]
  },
  {
   "cell_type": "code",
   "execution_count": 22,
   "id": "72bf0517-7e0d-4bd8-b134-09856503b8ca",
   "metadata": {},
   "outputs": [],
   "source": [
    "hashmap_min_size = 4\n",
    "hashmap_max_size = 16\n",
    "\n",
    "def get_alpfa(hash_map_size):\n",
    "    assert hash_map_size >= hashmap_min_size\n",
    "    assert hash_map_size <= hashmap_max_size\n",
    "\n",
    "    if hash_map_size == 4:\n",
    "        return 0.673\n",
    "    if hash_map_size == 5:\n",
    "        return 0.697\n",
    "    if hash_map_size == 6:\n",
    "        return 0.709\n",
    "\n",
    "    m = 2**hash_map_size\n",
    "    return 0.7213/(1 + 1.079/m)\n",
    "\n",
    "# aka rho in the algorythm\n",
    "def get_leading_zeros(number, max_bits):\n",
    "    return max_bits - number.bit_length() + 1 \n",
    "    \n"
   ]
  },
  {
   "cell_type": "code",
   "execution_count": 52,
   "id": "128666b3-ae21-493f-973d-ab34c1e8a462",
   "metadata": {},
   "outputs": [],
   "source": [
    "class HLL(object):\n",
    "    \"\"\"\n",
    "    HLL Cardinality counter\n",
    "    \"\"\"\n",
    "    def __init__(self, hashFunc = sha1, debug = False):\n",
    "        # hardcoded inputs for now 64 registers =  2 ^ p\n",
    "        p = 6\n",
    "\n",
    "        self.debug = debug\n",
    "        \n",
    "        self.p = p\n",
    "        self.m = 2 ** self.p;\n",
    "        self.alpha = get_alpfa(self.p)\n",
    "        self.M = [0 for i in range(self.m)]\n",
    "        self.hashFunc = hashFunc\n",
    "\n",
    "\n",
    "    def log(self, text):\n",
    "        if self.debug:\n",
    "            print(text)\n",
    "    \n",
    "    def getHash(self, value):\n",
    "        \"\"\"\n",
    "        returns hased value\n",
    "        \"\"\"\n",
    "        corected_value = value\n",
    "        if isinstance(value, str):\n",
    "            corected_value = value.encode('utf-8')\n",
    "        elif not isinstance(value, bytes):\n",
    "            corected_value = bytes(value)\n",
    "        return struct.unpack('!Q', self.hashFunc(corected_value).digest()[:8])[0]\n",
    "    \n",
    "    def add(self, value):\n",
    "        \"\"\"\n",
    "        Adds new value to HLL register\n",
    "        \"\"\"\n",
    "        x = self.getHash(value)\n",
    "        j = x & (self.m - 1)\n",
    "        w = x >> self.p\n",
    "        self.M[j] = max(self.M[j], get_leading_zeros(w, self.m - self.p))\n",
    "        self.log(f'j={j} w={w} M[j]={self.M[j]}')\n",
    "\n",
    "    def count(self):\n",
    "        \"\"\"\n",
    "        returns estimated cardinality, no bias correction for now\n",
    "        \"\"\"\n",
    "\n",
    "        registers_with_zeros = self.M.count(0)\n",
    "        result = self.m * math.log(self.m / float(registers_with_zeros))\n",
    "        self.log(f'registers_with_zeros={registers_with_zeros}')\n",
    "        return result"
   ]
  },
  {
   "cell_type": "code",
   "execution_count": 53,
   "id": "f47df07c-f183-4b6f-b41e-ab3219a8c8a1",
   "metadata": {},
   "outputs": [
    {
     "name": "stdout",
     "output_type": "stream",
     "text": [
      "j=44 w=101385018082514226 M[j]=2\n",
      "j=44 w=101385018082514226 M[j]=2\n",
      "j=44 w=101385018082514226 M[j]=2\n",
      "j=52 w=20859980513863653 M[j]=4\n",
      "registers_with_zeros=62\n"
     ]
    },
    {
     "data": {
      "text/plain": [
       "2.0319166921331373"
      ]
     },
     "execution_count": 53,
     "metadata": {},
     "output_type": "execute_result"
    }
   ],
   "source": [
    "hll = HLL(debug=True)\n",
    "hll.add(\"Ivan\")\n",
    "hll.add(\"Ivan\")\n",
    "hll.add(\"Ivan\")\n",
    "hll.add(\"Ivan 1\")\n",
    "\n",
    "hll.count()"
   ]
  },
  {
   "cell_type": "code",
   "execution_count": 24,
   "id": "f7a2b75f-34a1-4498-a24f-81b6921fca3b",
   "metadata": {},
   "outputs": [
    {
     "data": {
      "text/plain": [
       "44"
      ]
     },
     "execution_count": 24,
     "metadata": {},
     "output_type": "execute_result"
    }
   ],
   "source": [
    "6488641157280910508 & 63"
   ]
  },
  {
   "cell_type": "code",
   "execution_count": 20,
   "id": "819da273-9b30-4e59-850a-be43f44613be",
   "metadata": {},
   "outputs": [
    {
     "data": {
      "text/plain": [
       "62"
      ]
     },
     "execution_count": 20,
     "metadata": {},
     "output_type": "execute_result"
    }
   ],
   "source": [
    "a = 4439016261869266368\n",
    "a.bit_length()"
   ]
  },
  {
   "cell_type": "code",
   "execution_count": null,
   "id": "56eb1159-d33f-4719-80c7-83bfeb87e6bc",
   "metadata": {},
   "outputs": [],
   "source": []
  }
 ],
 "metadata": {
  "kernelspec": {
   "display_name": "Python 3 (ipykernel)",
   "language": "python",
   "name": "python3"
  },
  "language_info": {
   "codemirror_mode": {
    "name": "ipython",
    "version": 3
   },
   "file_extension": ".py",
   "mimetype": "text/x-python",
   "name": "python",
   "nbconvert_exporter": "python",
   "pygments_lexer": "ipython3",
   "version": "3.11.7"
  }
 },
 "nbformat": 4,
 "nbformat_minor": 5
}
