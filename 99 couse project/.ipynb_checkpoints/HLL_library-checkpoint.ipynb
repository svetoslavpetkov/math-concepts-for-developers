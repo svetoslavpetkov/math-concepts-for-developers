{
 "cells": [
  {
   "cell_type": "code",
   "execution_count": 1,
   "id": "7f18a8ee-fcf2-47b7-9468-566186d5cd3f",
   "metadata": {},
   "outputs": [],
   "source": [
    "import math\n",
    "import struct\n",
    "from hashlib import sha1"
   ]
  },
  {
   "cell_type": "code",
   "execution_count": 7,
   "id": "72bf0517-7e0d-4bd8-b134-09856503b8ca",
   "metadata": {},
   "outputs": [],
   "source": [
    "hashmap_min_size = 4\n",
    "hashmap_max_size = 16\n",
    "\n",
    "def get_alpfa(hash_map_size):\n",
    "    assert hash_map_size >= hashmap_min_size\n",
    "    assert hash_map_size <= hashmap_max_size\n",
    "\n",
    "    if hash_map_size == 4:\n",
    "        return 0.673\n",
    "    if hash_map_size == 5:\n",
    "        return 0.697\n",
    "    if hash_map_size == 6:\n",
    "        return 0.709\n",
    "\n",
    "    m = 2**hash_map_size\n",
    "    return 0.7213/(1 + 1.079/m)\n",
    "\n",
    "    \n"
   ]
  },
  {
   "cell_type": "code",
   "execution_count": 12,
   "id": "128666b3-ae21-493f-973d-ab34c1e8a462",
   "metadata": {},
   "outputs": [],
   "source": [
    "class HLL(object):\n",
    "  def __init__(self, hashFunc = sha1):\n",
    "      # hardcoded inputs for now 64 registers\n",
    "      self.hash_map_size = 6\n",
    "\n",
    "      self.alpha = get_alpfa(self.hash_map_size)\n",
    "      self.regiesters = [0 for i in range(2 ** self.hash_map_size)] \n",
    "      \n",
    "    "
   ]
  },
  {
   "cell_type": "code",
   "execution_count": 9,
   "id": "f47df07c-f183-4b6f-b41e-ab3219a8c8a1",
   "metadata": {},
   "outputs": [
    {
     "data": {
      "text/plain": [
       "16"
      ]
     },
     "execution_count": 9,
     "metadata": {},
     "output_type": "execute_result"
    }
   ],
   "source": [
    "1 << 4"
   ]
  },
  {
   "cell_type": "code",
   "execution_count": 11,
   "id": "f7a2b75f-34a1-4498-a24f-81b6921fca3b",
   "metadata": {},
   "outputs": [
    {
     "data": {
      "text/plain": [
       "64"
      ]
     },
     "execution_count": 11,
     "metadata": {},
     "output_type": "execute_result"
    }
   ],
   "source": [
    "2 ** 6"
   ]
  },
  {
   "cell_type": "code",
   "execution_count": null,
   "id": "819da273-9b30-4e59-850a-be43f44613be",
   "metadata": {},
   "outputs": [],
   "source": []
  }
 ],
 "metadata": {
  "kernelspec": {
   "display_name": "Python 3 (ipykernel)",
   "language": "python",
   "name": "python3"
  },
  "language_info": {
   "codemirror_mode": {
    "name": "ipython",
    "version": 3
   },
   "file_extension": ".py",
   "mimetype": "text/x-python",
   "name": "python",
   "nbconvert_exporter": "python",
   "pygments_lexer": "ipython3",
   "version": "3.11.7"
  }
 },
 "nbformat": 4,
 "nbformat_minor": 5
}
