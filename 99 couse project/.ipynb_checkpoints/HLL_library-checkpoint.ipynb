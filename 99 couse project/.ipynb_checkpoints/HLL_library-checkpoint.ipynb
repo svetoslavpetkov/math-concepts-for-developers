{
 "cells": [
  {
   "cell_type": "code",
   "execution_count": 17,
   "id": "8306b1bb-4de1-463d-b209-f67a57d99dfb",
   "metadata": {},
   "outputs": [
    {
     "name": "stdout",
     "output_type": "stream",
     "text": [
      "Collecting mmh3\n",
      "  Downloading mmh3-4.1.0-cp311-cp311-win_amd64.whl.metadata (13 kB)\n",
      "Downloading mmh3-4.1.0-cp311-cp311-win_amd64.whl (31 kB)\n",
      "Installing collected packages: mmh3\n",
      "Successfully installed mmh3-4.1.0\n"
     ]
    }
   ],
   "source": [
    "import sys\n",
    "!{sys.executable} -m pip install mmh3"
   ]
  },
  {
   "cell_type": "code",
   "execution_count": 18,
   "id": "7f18a8ee-fcf2-47b7-9468-566186d5cd3f",
   "metadata": {},
   "outputs": [],
   "source": [
    "import math\n",
    "import struct\n",
    "import numpy as np \n",
    "from hashlib import sha1\n",
    "import mmh3\n",
    "import pandas as pd"
   ]
  },
  {
   "cell_type": "code",
   "execution_count": 55,
   "id": "72bf0517-7e0d-4bd8-b134-09856503b8ca",
   "metadata": {},
   "outputs": [],
   "source": [
    "hashmap_min_size = 4\n",
    "hashmap_max_size = 16\n",
    "\n",
    "def get_alpfa(hash_map_size):\n",
    "    assert hash_map_size >= hashmap_min_size\n",
    "    assert hash_map_size <= hashmap_max_size\n",
    "\n",
    "    if hash_map_size == 4:\n",
    "        return 0.673\n",
    "    if hash_map_size == 5:\n",
    "        return 0.697\n",
    "    if hash_map_size == 6:\n",
    "        return 0.709\n",
    "\n",
    "    return 0.7213/((1 + 1.079)/(1 << hash_map_size))\n",
    "\n",
    "# aka rho in the algorythm\n",
    "def get_leading_zeros(number, max_bits):\n",
    "    return max_bits - number.bit_length() + 1 \n",
    "    \n"
   ]
  },
  {
   "cell_type": "code",
   "execution_count": 78,
   "id": "128666b3-ae21-493f-973d-ab34c1e8a462",
   "metadata": {
    "editable": true,
    "slideshow": {
     "slide_type": ""
    },
    "tags": []
   },
   "outputs": [],
   "source": [
    "class HLL(object):\n",
    "    \"\"\"\n",
    "    HLL Cardinality counter\n",
    "    \"\"\"\n",
    "    _hash_range_bit = 64\n",
    "    def __init__(self, p = 8, debug = False):\n",
    "        self.debug = debug\n",
    "        \n",
    "        self.p = p\n",
    "        self.m = 1 << p;\n",
    "        self.alpha = get_alpfa(self.p)\n",
    "        self.M = np.zeros((self.m,), dtype=np.int8)\n",
    "        self.max_rank = self._hash_range_bit - self.p\n",
    "\n",
    "\n",
    "    def log(self, text):\n",
    "        if self.debug:\n",
    "            print(text)\n",
    "    \n",
    "    def getHash(self, value):\n",
    "        \"\"\"\n",
    "        returns hased value\n",
    "        \"\"\"\n",
    "        corected_value = value\n",
    "        if isinstance(value, str):\n",
    "            corected_value = value.encode('utf-8')\n",
    "        elif isinstance(value, float):\n",
    "            corected_value = str(value).encode('utf-8')\n",
    "        elif not isinstance(value, bytes):\n",
    "            corected_value = bytes(value)\n",
    "        return mmh3.hash64(corected_value)[0]\n",
    "    \n",
    "    def add(self, value):\n",
    "        \"\"\"\n",
    "        Adds new value to HLL register\n",
    "        \"\"\"\n",
    "        #hashed value\n",
    "        x = self.getHash(value)\n",
    "        self.log(f'hash of {value} is {x}')\n",
    "        \n",
    "        # registry index using first p bits of the hash\n",
    "        j = x & (self.m - 1)\n",
    "        self.log(f'index = {j}')\n",
    "        # get the rest bits\n",
    "        w = x >> self.p\n",
    "        self.log(f'w = {w}')\n",
    "        leading_zeroes = get_leading_zeros(w, self.max_rank)\n",
    "        self.log(f'leading zeores = {leading_zeroes}')\n",
    "        self.M[j] = max(self.M[j], leading_zeroes)\n",
    "\n",
    "    def count(self):\n",
    "        \"\"\"\n",
    "        returns estimated cardinality, no bias correction for now\n",
    "        \"\"\"\n",
    "        znamenatel = np.sum(2.0 ** (-self.M))\n",
    "        self.log(f'znamenatel = {znamenatel}')\n",
    "        chislitel = float((self.m**2))\n",
    "        self.log(f'chislitel = {chislitel}')\n",
    "        \n",
    "        E = self.alpha * float((self.m**2)) / np.sum(2.0 ** (-self.M))\n",
    "\n",
    "        self.log(f'E={E}')\n",
    "        \n",
    "        if E <= 5*self.m/2:\n",
    "            registers_wtih_no_data = self.m - np.count_nonzero(self.M)\n",
    "            if registers_wtih_no_data > 0:\n",
    "                self.log('linear counting')\n",
    "                return int(self.m * np.log(self.m / float(registers_with_zeros)))\n",
    "            else:\n",
    "                self.log('we cannot do correction')\n",
    "                return int(E)\n",
    "        elif E <= (2**32)/30:\n",
    "            self.log('number is within range')\n",
    "            return int(E)\n",
    "        else:\n",
    "            self.log('We may need some more calculation')\n",
    "            return int(E)\n",
    "\n",
    "    def getRegistry(self):\n",
    "        return self.M"
   ]
  },
  {
   "cell_type": "code",
   "execution_count": 79,
   "id": "f47df07c-f183-4b6f-b41e-ab3219a8c8a1",
   "metadata": {},
   "outputs": [
    {
     "name": "stdout",
     "output_type": "stream",
     "text": [
      "znamenatel = 0.9483871459960938\n",
      "chislitel = 65536.0\n",
      "E=6137558.995438805\n",
      "number is within range\n",
      "6137558\n",
      "25127\n"
     ]
    }
   ],
   "source": [
    "steam_games = pd.read_csv('data/steam-games.csv')\n",
    "\n",
    "hll = HLL(debug=False, p = 8)\n",
    "\n",
    "for item in steam_games['developer']:\n",
    "    hll.add(item)\n",
    "\n",
    "hll.debug = True\n",
    "print(hll.count())\n",
    "\n",
    "real_set = set(steam_games['developer'])\n",
    "print(len(real_set))\n",
    "\n",
    "# hll = HLL(debug=True)\n",
    "# hll.add(\"Ivan\")\n",
    "# hll.add(\"Ivan\")\n",
    "# hll.add(\"Ivan\")\n",
    "# hll.add(\"Ivan 1\")\n",
    "\n",
    "# hll.count()"
   ]
  },
  {
   "cell_type": "code",
   "execution_count": 31,
   "id": "f7a2b75f-34a1-4498-a24f-81b6921fca3b",
   "metadata": {},
   "outputs": [
    {
     "data": {
      "text/plain": [
       "True"
      ]
     },
     "execution_count": 31,
     "metadata": {},
     "output_type": "execute_result"
    }
   ],
   "source": [
    "6.7 <= 5*256/2"
   ]
  },
  {
   "cell_type": "code",
   "execution_count": 30,
   "id": "819da273-9b30-4e59-850a-be43f44613be",
   "metadata": {},
   "outputs": [
    {
     "data": {
      "text/plain": [
       "23"
      ]
     },
     "execution_count": 30,
     "metadata": {},
     "output_type": "execute_result"
    }
   ],
   "source": [
    "a = 6593149\n",
    "a.bit_length()"
   ]
  },
  {
   "cell_type": "code",
   "execution_count": 54,
   "id": "56eb1159-d33f-4719-80c7-83bfeb87e6bc",
   "metadata": {},
   "outputs": [
    {
     "data": {
      "text/plain": [
       "array([0.5    , 0.03125])"
      ]
     },
     "execution_count": 54,
     "metadata": {},
     "output_type": "execute_result"
    }
   ],
   "source": [
    "2.0**(-np.array([1, 5]))"
   ]
  },
  {
   "cell_type": "code",
   "execution_count": 88,
   "id": "b83612fc-fe14-4c4d-ab02-1c18ac760d22",
   "metadata": {},
   "outputs": [
    {
     "data": {
      "text/plain": [
       "0.25"
      ]
     },
     "execution_count": 88,
     "metadata": {},
     "output_type": "execute_result"
    }
   ],
   "source": [
    "2 ** (-2)"
   ]
  },
  {
   "cell_type": "code",
   "execution_count": 7,
   "id": "223d3eea-f1d3-4969-ac47-05f2f47a6ad8",
   "metadata": {},
   "outputs": [
    {
     "data": {
      "text/plain": [
       "57"
      ]
     },
     "execution_count": 7,
     "metadata": {},
     "output_type": "execute_result"
    }
   ],
   "source": [
    "q = 101385018082514226\n",
    "q.bit_length()"
   ]
  },
  {
   "cell_type": "code",
   "execution_count": 25,
   "id": "2e05607e-6034-4b2d-928d-8a4114145010",
   "metadata": {},
   "outputs": [
    {
     "data": {
      "text/plain": [
       "256"
      ]
     },
     "execution_count": 25,
     "metadata": {},
     "output_type": "execute_result"
    }
   ],
   "source": [
    "1 << 8"
   ]
  },
  {
   "cell_type": "code",
   "execution_count": 58,
   "id": "43bd7cc2-26db-4be4-a25c-40d03865ca03",
   "metadata": {},
   "outputs": [
    {
     "data": {
      "text/plain": [
       "256"
      ]
     },
     "execution_count": 58,
     "metadata": {},
     "output_type": "execute_result"
    }
   ],
   "source": [
    "2 ** 8"
   ]
  },
  {
   "cell_type": "code",
   "execution_count": null,
   "id": "8460e11b-43e1-41c0-9274-302d25d054c1",
   "metadata": {},
   "outputs": [],
   "source": []
  }
 ],
 "metadata": {
  "kernelspec": {
   "display_name": "Python 3 (ipykernel)",
   "language": "python",
   "name": "python3"
  },
  "language_info": {
   "codemirror_mode": {
    "name": "ipython",
    "version": 3
   },
   "file_extension": ".py",
   "mimetype": "text/x-python",
   "name": "python",
   "nbconvert_exporter": "python",
   "pygments_lexer": "ipython3",
   "version": "3.11.7"
  }
 },
 "nbformat": 4,
 "nbformat_minor": 5
}
