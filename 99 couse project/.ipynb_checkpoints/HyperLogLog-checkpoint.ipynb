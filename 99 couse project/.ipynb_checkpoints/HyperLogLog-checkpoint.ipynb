{
 "cells": [
  {
   "cell_type": "markdown",
   "id": "939bc27b-beb3-40b8-8fc5-fb41e5733a59",
   "metadata": {},
   "source": [
    "# HyperLogLog algorithm for cardinality estimation\n",
    "\n",
    "## Problem: Cardinality estimation on huge datasets\n",
    "\n",
    "### Why not calculating real distinct count ?\n",
    "    Calculating a distinc count in a given dataset has a trivial implemention. There are structures in modern languages that makes implmentation easy.\n",
    "\n",
    "```typescript\n",
    "// psudo code\n",
    "const map = new Map();\n",
    "\n",
    "for(record in ordersDataset) {\n",
    "    map.add(record.customerName)\n",
    "}\n",
    "\n",
    "consoloe.log(\"The distinc count of customers in the dataset is\" + map.size)\n",
    "\n",
    "```\n",
    "The Map implementation may varry form $ \\mathcal{O}(log n) $ to $ \\mathcal{O}(n) $.\n",
    "    This means the complexyty along with the dataset elements itearation will be $ \\mathcal{O}(n^2)  $. *Not so bad !*. Not at all, but we are calculating only the computational complexity.\n",
    "\n",
    "### What about memory footprint ?\n",
    "\n",
    "    In order to calculate all distinc values,we need to keep all of them in memory. Despide teh fact the Map/Hashtabel structures are blazing fast, they have to keep eith the hashed value or both hashed and real value in memory. This depends on the implmentation of the hastable and also of the value hashing function implementation. \n",
    "    We will try to estimate memory usage with the most optimistic surcumstances. \n",
    " \n",
    "\n",
    "\n",
    "## What is Cardinality estimation\n",
    "Cardinality estimation is a prediction of the distinct count values over a dataset column or attribute. Examples:\n",
    "> What is the estimated distinc count of customers over an orders dataset.\n",
    "> \n",
    "Cardinality etimation is used by SQL engines Query planners (not only) to predict how many distinct elements exists in given dataset. This information is used to generate optimal query execution plan.\n",
    "\n",
    "\n"
   ]
  },
  {
   "cell_type": "code",
   "execution_count": null,
   "id": "74d30003-217c-43bb-8c05-c6ff7a43f224",
   "metadata": {},
   "outputs": [],
   "source": []
  }
 ],
 "metadata": {
  "kernelspec": {
   "display_name": "Python 3 (ipykernel)",
   "language": "python",
   "name": "python3"
  },
  "language_info": {
   "codemirror_mode": {
    "name": "ipython",
    "version": 3
   },
   "file_extension": ".py",
   "mimetype": "text/x-python",
   "name": "python",
   "nbconvert_exporter": "python",
   "pygments_lexer": "ipython3",
   "version": "3.11.7"
  }
 },
 "nbformat": 4,
 "nbformat_minor": 5
}
