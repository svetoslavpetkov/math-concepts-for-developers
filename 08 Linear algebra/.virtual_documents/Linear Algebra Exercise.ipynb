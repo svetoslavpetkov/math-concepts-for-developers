%matplotlib inline


import numpy as np
import matplotlib.pyplot as plt
from matplotlib.transforms import Affine2D
import skimage.io
import time
# Write your imports here








def get_max_abs(arrays, offset = 3):
    concatenated_array = np.concatenate(arrays)
    max = np.max(np.absolute(concatenated_array))
    return int(np.ceil(max) + offset)

print(get_max_abs([[1, 1, -2, 3], [2, 1, -2.5, 1.5], [-3.2, -1.5, 0, 4.3]]))




def plot_vectors(vectors, colors):
    """
    Plots vectors on the xy-plane. The `vectors` parameter is a Python list.
    Each vector is specified in the format [start_x, start_y, end_x, end_y]
    """
    np_vectors = np.array(vectors)
    start_x = np_vectors[:,0]
    start_y = np_vectors[:,1]
    end_x = np_vectors[:,2]
    end_y = np_vectors[:,3]
    length_x = end_x - start_x
    length_y = end_y - start_y

    max_coordinate = get_max_abs(vectors)

    plt.quiver(start_x, start_y, length_x, length_y, color = colors, scale_units = "xy", angles = "xy", scale = 1)
    plt.xlim(-max_coordinate, max_coordinate)
    plt.ylim(-max_coordinate, max_coordinate)
    plt.gca().set_aspect("equal")
    plt.show()


plot_vectors([[0, 0, 2, 3]], ["red"]) # One vector
plot_vectors([[0, 0, 1, 0], [0, 0, 0, 1]], ["red", "blue"]) # Two orthogonal vectors
plot_vectors([[1, 1, -2, 3], [2, 1, -2.5, 1.5], [-3.2, -1.5, 0, 4.3]], ["red", "blue", "orange"]) # Three arbitrary vectors





def find_linear_combination_coefficients(e1, e2, v):
    """
    Returns the coordinates of the representation of v in the basis {e_1, e_2}.
    That is, the unknown coefficients in the linear combination v = lambda_1 * e_1 + lambda_2 * e_2
    """
    basis_matrix = np.array([e1, e2]).T
    return np.linalg.solve(basis_matrix, v)


def get_scaled_vectors(e1, e2, coefficients):
    """
    Returns the scaled vectors and add them by starting with e1
    """
    e1_scaled = np.array(e1) * coefficients[0]
    e2_scaled = e1_scaled + (np.array(e2) * coefficients[1])
    return [ [0, 0, e1_scaled[0], e1_scaled[1]], [ e1_scaled[0], e1_scaled[1], e2_scaled[0], e2_scaled[1] ] ]



e1, e2 = [[1, 0], [0, 1]]
v = [3.5, 8.6]
# Find the unknown coefficients. Extract the logic in a function.
# It should accept the two basis vectors and the one we need to represent
# and should return the two coefficients
coefficients = find_linear_combination_coefficients(e1, e2, v)
print("Coefficients: ", str(coefficients))
scaled_vectors = get_scaled_vectors(e1, e2, coefficients)
# Plot the three vectors
basis_and_resut_vector = [[0, 0, i[0], i[1]] for i in [e1, e2, v] ]
all_vectors = np.concatenate((basis_and_resut_vector, scaled_vectors), axis = 0)
plot_vectors(all_vectors, ["red", "blue", "green", "tab:red", "tab:blue"])





e1, e2 = [[2, 3], [-5, 1]]
coefficients = find_linear_combination_coefficients(e1, e2, v)
print("Coefficients: ", str(coefficients))
scaled_vectors = get_scaled_vectors(e1, e2, coefficients)
basis_and_resut_vector = [[0, 0, i[0], i[1]] for i in [e1, e2, v] ]
all_vectors = np.concatenate((basis_and_resut_vector, scaled_vectors), axis = 0)
plot_vectors(all_vectors, ["red", "blue", "green", "tab:red", "tab:blue"])





e1, e2 = [[3, 4], [-4, 3]]
coefficients = find_linear_combination_coefficients(e1, e2, v)
print("Coefficients: ", str(coefficients))
scaled_vectors = get_scaled_vectors(e1, e2, coefficients)
basis_and_resut_vector = [[0, 0, i[0], i[1]] for i in [e1, e2, v] ]
all_vectors = np.concatenate((basis_and_resut_vector, scaled_vectors), axis = 0)
plot_vectors(all_vectors, ["red", "blue", "green"])





e1, e2 = [[0, 5], [4, 0]]
coefficients = find_linear_combination_coefficients(e1, e2, v)
print("Coefficients: ", str(coefficients))
scaled_vectors = get_scaled_vectors(e1, e2, coefficients)
basis_and_resut_vector = [[0, 0, i[0], i[1]] for i in [e1, e2, v] ]
all_vectors = np.concatenate((basis_and_resut_vector, scaled_vectors), axis = 0)
plot_vectors(all_vectors, ["red", "blue", "green"])








def generate_arrays(size_min=1000, size_max=40000, step=5000):
    sample_sizes = []
    for size in range(size_min,size_max, step):
        sample_sizes.append(size)

    # genreate each array
    arrays = []
    for size in sample_sizes:
        nums = np.array([])
        for i in range(0,size):
            num = np.random.randint(100000,100000000)
            nums = np.append(nums,[num])
            
        arrays.append(nums)
    return arrays

def exec_and_measure(action):
    start = time.time()
    result = action()
    end = time.time()
    duration = end - start
    return (result, duration)

def sum_using_loop(array):
    sum = 0;
    for i in range(len(array)):
        sum += array[i]
    return sum



all_arrays = generate_arrays()
array_lenghts = []
loop_durations = []
np_durations = []
for array in all_arrays:
    array_lenghts.append(len(array))
    (loop_result, loop_duration) = exec_and_measure(lambda: sum_using_loop(array))
    (np_result, np_duration) = exec_and_measure(lambda: np.sum(array))
    loop_durations.append(loop_duration)
    np_durations.append(np_duration)
plt.plot(array_lenghts,loop_durations)
plt.plot(array_lenghts,np_durations)
plt.show()





x = np.array([2, 3, 4])
y = np.array([5, -2, 3])
print("x.y =", str(x.dot(y)))

print("x.shape:", x.shape)
print("y.shape:", y.shape)
print("x:", x)
print("x transpose:", x.T)





x = np.array([[2, 3, 4]]) # Row vector
y = np.array([[5], [-2], [3]]) # Column vector

print("x.shape:", x.shape)
print("y.shape:", y.shape)
print("x.y:\n", x.dot(y)) # Dot product -> still looks like a matrix
print("y.x:\n", y.dot(x)) # Outer product -> matrix








def visualize_transformation(matrix, plot_title):
    fig = plt.figure()
    plt.axis("equal")
    ax = fig.add_subplot(111)

    # Limits, labels and grid
    ax.set_xlim(-5, 5)
    ax.set_ylim(-5, 5)
    ax.set_xticks(np.arange(ax.get_xlim()[0], ax.get_xlim()[1] + 1))
    ax.set_yticks(np.arange(ax.get_ylim()[0], ax.get_ylim()[1] + 1))
    ax.set_xticklabels([])
    ax.set_yticklabels([])
    ax.grid()
    ax.set_title(plot_title)

    # Unit vectors
    ax.quiver([0, 0], [0, 0], [1, 0], [0, 1], color = ["red", "blue"], alpha = 0.2, units = "xy", scale = 1)

    # Transformation
    matrix = [
        [matrix[0][0], matrix[0][1], 0],
        [matrix[1][0], matrix[1][1], 0],
        [0, 0, 1],
    ]
    t = Affine2D(matrix)

    [min_x, max_x, min_y, max_y] = [2 * ax.get_xlim()[0], 2 * ax.get_xlim()[1] + 1, 2 * ax.get_ylim()[0], 2 * ax.get_ylim()[1] + 1]

    # New (transformed) grid lines
    # Horizontal
    for y in np.arange(min_y, max_y):
        ax.plot([min_x, max_x], [y] * 2, color = "red", linestyle = "--", linewidth = 2, transform = t + ax.transData)
    # Vertical
    for x in np.arange(min_x, max_x):
        ax.plot([x] * 2, [min_y, max_y], color = "blue", linestyle = "--", linewidth = 2, transform = t + ax.transData)

    # New (transformed) unit vectors
    new_x = t.transform_affine([1, 0])
    new_y = t.transform_affine([0, 1])
    ax.quiver([0, 0], [0, 0], [new_x[0], new_y[0]], [new_x[1], new_y[1]], color = ["red", "blue"], units = "xy", angles = "xy", scale = 1)
   
    plt.show()





# Identity
matrix = [
    [1, 0],
    [0, 1]
]

visualize_transformation(matrix, r"$\mathrm{Identity\ transformation}$")

# Scaling
matrix = [
    [2, 0],
    [0, 1]
]

visualize_transformation(matrix, r"$\mathrm{Scaling}$")

# Shear
matrix = [
    [1, 2],
    [-1, 1]
]

visualize_transformation(matrix, r"$\mathrm{Shear}$")

# Rotation
matrix = [
    [np.cos(np.radians(30)), -np.sin(np.radians(30))],
    [np.sin(np.radians(30)), np.cos(np.radians(30))]
]

visualize_transformation(matrix, r"$\mathrm{30^{\circ}\ rotation}$")

# Projection (linearly dependent rows)
matrix = [
    [1, 2],
    [2, 4]
]

visualize_transformation(matrix, r"$\mathrm{Projection\ (linearly\ dependent\ rows)}$")





# Write your code here





def read_image(url):
    img = skimage.io.imread(url)
    return img


cat_image_url = "https://d17fnq9dkz9hgj.cloudfront.net/uploads/2012/11/140272627-grooming-needs-senior-cat-632x475.jpg"
cat_image = read_image(cat_image_url)


cat_image[0][0] # First pixel


plt.imshow(cat_image)
plt.axis("off")
plt.show()





cat_image_r, cat_image_g, cat_image_b = [cat_image[:, :, i] for i in range(3)]
f, (ax_r, ax_g, ax_b) = plt.subplots(1, 3, figsize = (10, 5))
ax_r.imshow(cat_image_r, cmap = "gray")
ax_r.set_title("Red channel")
ax_g.imshow(cat_image_g, cmap = "gray")
ax_g.set_title("Green channel")
ax_b.imshow(cat_image_b, cmap = "gray")
ax_b.set_title("Blue channel")
plt.setp([ax_r, ax_g, ax_b], xticks = [], yticks = []) # Remove axis ticks
plt.show()





cat_image_r_normalized, cat_image_g_normalized, cat_image_b_normalized = [
    channel / 255 for channel in [cat_image_r, cat_image_g, cat_image_b]
] 
cat_image_gray = (cat_image_r_normalized + cat_image_g_normalized + cat_image_b_normalized) / 3.0  
plt.imshow(cat_image_gray, cmap = "gray")
plt.title("Average grayscale image")
plt.show()





cat_image_gray_corrected = (0.299 * cat_image_r_normalized + 
                            0.587 * cat_image_g_normalized + 
                            0.114 * cat_image_b_normalized)
plt.gca().imshow(cat_image_gray_corrected, cmap = plt.cm.gray)
plt.title("Gamma-corrected grayscale image")
plt.show()





plt.hist(cat_image_gray.ravel(), bins = 256, color = "black")
plt.title("Uncorrected image histogram")
plt.show()
plt.hist(cat_image_gray_corrected.ravel(), bins = 256, color = "red")
plt.title("Corrected image histogram")
plt.show()


# Represent the image as a single-dimensional vector
hist_vector = cat_image_gray.ravel()

# Normalize the image to have values in the range [0; 1]
hist_vector = hist_vector / (hist_vector.max() - hist_vector.min())

plt.hist(hist_vector, bins = 256, color = "black", alpha = 0.5, label = "Uncorrected")
plt.hist(cat_image_gray_corrected.ravel(), bins = 256, color = "red", alpha = 0.5, label = "Corrected")
plt.xlim(0, 1)
plt.title("Image histograms comparison")
plt.legend()
plt.show()





cat_r_bits, cat_g_bits, cat_b_bits = [cat_image[:,:,i]for i in range(0,3)]
f,(ax_r,ax_g,ax_b) = plt.subplots(1,3,figsize = (10,5))
ax_r.imshow(cat_r_bits, cmap = "gray")
ax_r.set_title("R-channel")
ax_g.imshow(cat_g_bits, cmap = "gray")
ax_g.set_title("G-channel")
ax_b.imshow(cat_b_bits, cmap = "gray")
ax_b.set_title("B-channel")
plt.setp([ax_r, ax_g, ax_b], xticks = [], yticks = []) # Remove axis ticks
plt.show()

f,(ax_r_hist,ax_g_hist,ax_b_hist) = plt.subplots(1,3,figsize = (10,5))
ax_r_hist.hist(cat_r_bits.ravel(),bins = 256, color = "red", alpha = 0.5)
ax_g_hist.hist(cat_g_bits.ravel(),bins = 256, color = "green",alpha = 0.5)
ax_b_hist.hist(cat_b_bits.ravel(),bins = 256, color = "blue",alpha = 0.5)
plt.show()

#mutual histogram of the R,G,B channels
plt.hist(cat_r_bits.ravel(),bins = 256,color = "red",alpha = 0.5, label = "R-channel")
plt.hist(cat_g_bits.ravel(),bins = 256,color = "green",alpha = 0.5, label = "G-channel")
plt.hist(cat_b_bits.ravel(),bins = 256,color = "blue",alpha = 0.5,label = "B-channel")
plt.title("Mutual histogram of R,G and B channel")
plt.legend()
plt.show()





# Write your code here





def visualize_transformed_vector(matrix, vec, title):
    """
    Shows the vector (starting at (0; 0)) before and after the transformation
    given by the specified matrix
    """
    # Write your code here
    pass





matrix = np.array([[2, -4, 0], [-1, -1, 0], [0, 0, 1]])
visualize_transformed_vector(matrix, [2, 3], "Transformation")





visualize_transformed_vector(matrix, [-4, 1], "Transformation")












